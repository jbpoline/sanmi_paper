{
 "cells": [
  {
   "cell_type": "code",
   "execution_count": 4,
   "metadata": {
    "collapsed": true
   },
   "outputs": [],
   "source": [
    "%matplotlib inline"
   ]
  },
  {
   "cell_type": "markdown",
   "metadata": {},
   "source": [
    "## trying http://nilearn.github.io/auto_examples/03_connectivity/plot_extract_regions_dictlearning_maps.html"
   ]
  },
  {
   "cell_type": "code",
   "execution_count": 1,
   "metadata": {
    "collapsed": false
   },
   "outputs": [
    {
     "name": "stdout",
     "output_type": "stream",
     "text": [
      "\n",
      "Dataset created in /home/jb/nilearn_data/adhd\n",
      "\n",
      "Downloading data from https://www.nitrc.org/frs/download.php/7781/adhd40_metadata.tgz ...\n"
     ]
    },
    {
     "name": "stderr",
     "output_type": "stream",
     "text": [
      "\r",
      "Downloaded 3072 of 3072 bytes (100.0%,    0.0s remaining) ...done. (3 seconds, 0 min)\n",
      "Extracting data from /home/jb/nilearn_data/adhd/74a52d3552145e11365bb68453d1a70c/adhd40_metadata.tgz..... done.\n"
     ]
    },
    {
     "name": "stdout",
     "output_type": "stream",
     "text": [
      "Downloading data from https://www.nitrc.org/frs/download.php/7782/adhd40_0010042.tgz ...\n"
     ]
    },
    {
     "name": "stderr",
     "output_type": "stream",
     "text": [
      "Downloaded 44414948 of 44414948 bytes (100.0%,    0.0s remaining) ...done. (4 seconds, 0 min)\n",
      "Extracting data from /home/jb/nilearn_data/adhd/51ca93ac61e627213eb5a3bb40abfcc0/adhd40_0010042.tgz..... done.\n"
     ]
    },
    {
     "name": "stdout",
     "output_type": "stream",
     "text": [
      "Downloading data from https://www.nitrc.org/frs/download.php/7783/adhd40_0010064.tgz ...\n"
     ]
    },
    {
     "name": "stderr",
     "output_type": "stream",
     "text": [
      "Downloaded 45583539 of 45583539 bytes (100.0%,    0.0s remaining) ...done. (4 seconds, 0 min)\n",
      "Extracting data from /home/jb/nilearn_data/adhd/51ca93ac61e627213eb5a3bb40abfcc0/adhd40_0010064.tgz..... done.\n"
     ]
    },
    {
     "name": "stdout",
     "output_type": "stream",
     "text": [
      "Downloading data from https://www.nitrc.org/frs/download.php/7784/adhd40_0010128.tgz ...\n"
     ]
    },
    {
     "name": "stderr",
     "output_type": "stream",
     "text": [
      "Downloaded 45461055 of 45461055 bytes (100.0%,    0.0s remaining) ...done. (4 seconds, 0 min)\n",
      "Extracting data from /home/jb/nilearn_data/adhd/51ca93ac61e627213eb5a3bb40abfcc0/adhd40_0010128.tgz..... done.\n"
     ]
    },
    {
     "name": "stdout",
     "output_type": "stream",
     "text": [
      "Downloading data from https://www.nitrc.org/frs/download.php/7785/adhd40_0021019.tgz ...\n"
     ]
    },
    {
     "name": "stderr",
     "output_type": "stream",
     "text": [
      "Downloaded 46216320 of 46216320 bytes (100.0%,    0.0s remaining) ...done. (4 seconds, 0 min)\n",
      "Extracting data from /home/jb/nilearn_data/adhd/51ca93ac61e627213eb5a3bb40abfcc0/adhd40_0021019.tgz..... done.\n"
     ]
    },
    {
     "name": "stdout",
     "output_type": "stream",
     "text": [
      "Downloading data from https://www.nitrc.org/frs/download.php/7786/adhd40_0023008.tgz ...\n"
     ]
    },
    {
     "name": "stderr",
     "output_type": "stream",
     "text": [
      "Downloaded 20407901 of 20407901 bytes (100.0%,    0.0s remaining) ...done. (2 seconds, 0 min)\n",
      "Extracting data from /home/jb/nilearn_data/adhd/51ca93ac61e627213eb5a3bb40abfcc0/adhd40_0023008.tgz..... done.\n"
     ]
    },
    {
     "name": "stdout",
     "output_type": "stream",
     "text": [
      "Downloading data from https://www.nitrc.org/frs/download.php/7787/adhd40_0023012.tgz ...\n"
     ]
    },
    {
     "name": "stderr",
     "output_type": "stream",
     "text": [
      "Downloaded 20706939 of 20706939 bytes (100.0%,    0.0s remaining) ...done. (2 seconds, 0 min)\n",
      "Extracting data from /home/jb/nilearn_data/adhd/51ca93ac61e627213eb5a3bb40abfcc0/adhd40_0023012.tgz..... done.\n"
     ]
    },
    {
     "name": "stdout",
     "output_type": "stream",
     "text": [
      "Downloading data from https://www.nitrc.org/frs/download.php/7788/adhd40_0027011.tgz ...\n"
     ]
    },
    {
     "name": "stderr",
     "output_type": "stream",
     "text": [
      "Downloaded 72402326 of 72402326 bytes (100.0%,    0.0s remaining) ...done. (7 seconds, 0 min)\n",
      "Extracting data from /home/jb/nilearn_data/adhd/51ca93ac61e627213eb5a3bb40abfcc0/adhd40_0027011.tgz..... done.\n"
     ]
    },
    {
     "name": "stdout",
     "output_type": "stream",
     "text": [
      "Downloading data from https://www.nitrc.org/frs/download.php/7789/adhd40_0027018.tgz ...\n"
     ]
    },
    {
     "name": "stderr",
     "output_type": "stream",
     "text": [
      "Downloaded 76184603 of 76184603 bytes (100.0%,    0.0s remaining) ...done. (7 seconds, 0 min)\n",
      "Extracting data from /home/jb/nilearn_data/adhd/51ca93ac61e627213eb5a3bb40abfcc0/adhd40_0027018.tgz..... done.\n"
     ]
    },
    {
     "name": "stdout",
     "output_type": "stream",
     "text": [
      "Downloading data from https://www.nitrc.org/frs/download.php/7790/adhd40_0027034.tgz ...\n"
     ]
    },
    {
     "name": "stderr",
     "output_type": "stream",
     "text": [
      "Downloaded 70074120 of 70074120 bytes (100.0%,    0.0s remaining) ...done. (6 seconds, 0 min)\n",
      "Extracting data from /home/jb/nilearn_data/adhd/51ca93ac61e627213eb5a3bb40abfcc0/adhd40_0027034.tgz..... done.\n"
     ]
    },
    {
     "name": "stdout",
     "output_type": "stream",
     "text": [
      "Downloading data from https://www.nitrc.org/frs/download.php/7791/adhd40_0027037.tgz ...\n"
     ]
    },
    {
     "name": "stderr",
     "output_type": "stream",
     "text": [
      "Downloaded 69291635 of 69291635 bytes (100.0%,    0.0s remaining) ...done. (6 seconds, 0 min)\n",
      "Extracting data from /home/jb/nilearn_data/adhd/51ca93ac61e627213eb5a3bb40abfcc0/adhd40_0027037.tgz..... done.\n"
     ]
    },
    {
     "name": "stdout",
     "output_type": "stream",
     "text": [
      "Downloading data from https://www.nitrc.org/frs/download.php/7792/adhd40_1019436.tgz ...\n"
     ]
    },
    {
     "name": "stderr",
     "output_type": "stream",
     "text": [
      "Downloaded 41803342 of 41803342 bytes (100.0%,    0.0s remaining) ...done. (4 seconds, 0 min)\n",
      "Extracting data from /home/jb/nilearn_data/adhd/51ca93ac61e627213eb5a3bb40abfcc0/adhd40_1019436.tgz..... done.\n"
     ]
    },
    {
     "name": "stdout",
     "output_type": "stream",
     "text": [
      "Downloading data from https://www.nitrc.org/frs/download.php/7793/adhd40_1206380.tgz ...\n"
     ]
    },
    {
     "name": "stderr",
     "output_type": "stream",
     "text": [
      "Downloaded 20763649 of 20763649 bytes (100.0%,    0.0s remaining) ...done. (2 seconds, 0 min)\n",
      "Extracting data from /home/jb/nilearn_data/adhd/51ca93ac61e627213eb5a3bb40abfcc0/adhd40_1206380.tgz..... done.\n"
     ]
    },
    {
     "name": "stdout",
     "output_type": "stream",
     "text": [
      "Downloading data from https://www.nitrc.org/frs/download.php/7794/adhd40_1418396.tgz ...\n"
     ]
    },
    {
     "name": "stderr",
     "output_type": "stream",
     "text": [
      "Downloaded 20168043 of 20168043 bytes (100.0%,    0.0s remaining) ...done. (2 seconds, 0 min)\n",
      "Extracting data from /home/jb/nilearn_data/adhd/51ca93ac61e627213eb5a3bb40abfcc0/adhd40_1418396.tgz..... done.\n"
     ]
    },
    {
     "name": "stdout",
     "output_type": "stream",
     "text": [
      "Downloading data from https://www.nitrc.org/frs/download.php/7795/adhd40_1517058.tgz ...\n"
     ]
    },
    {
     "name": "stderr",
     "output_type": "stream",
     "text": [
      "Downloaded 62682233 of 62682233 bytes (100.0%,    0.0s remaining) ...done. (6 seconds, 0 min)\n",
      "Extracting data from /home/jb/nilearn_data/adhd/51ca93ac61e627213eb5a3bb40abfcc0/adhd40_1517058.tgz..... done.\n"
     ]
    },
    {
     "name": "stdout",
     "output_type": "stream",
     "text": [
      "Downloading data from https://www.nitrc.org/frs/download.php/7796/adhd40_1552181.tgz ...\n"
     ]
    },
    {
     "name": "stderr",
     "output_type": "stream",
     "text": [
      "Downloaded 20196558 of 20196558 bytes (100.0%,    0.0s remaining) ...done. (2 seconds, 0 min)\n",
      "Extracting data from /home/jb/nilearn_data/adhd/51ca93ac61e627213eb5a3bb40abfcc0/adhd40_1552181.tgz..... done.\n"
     ]
    },
    {
     "name": "stdout",
     "output_type": "stream",
     "text": [
      "Downloading data from https://www.nitrc.org/frs/download.php/7797/adhd40_1562298.tgz ...\n"
     ]
    },
    {
     "name": "stderr",
     "output_type": "stream",
     "text": [
      "Downloaded 60663491 of 60663491 bytes (100.0%,    0.0s remaining) ...done. (5 seconds, 0 min)\n",
      "Extracting data from /home/jb/nilearn_data/adhd/51ca93ac61e627213eb5a3bb40abfcc0/adhd40_1562298.tgz..... done.\n"
     ]
    },
    {
     "name": "stdout",
     "output_type": "stream",
     "text": [
      "Downloading data from https://www.nitrc.org/frs/download.php/7798/adhd40_1679142.tgz ...\n"
     ]
    },
    {
     "name": "stderr",
     "output_type": "stream",
     "text": [
      "Downloaded 20628764 of 20628764 bytes (100.0%,    0.0s remaining) ...done. (2 seconds, 0 min)\n",
      "Extracting data from /home/jb/nilearn_data/adhd/51ca93ac61e627213eb5a3bb40abfcc0/adhd40_1679142.tgz..... done.\n"
     ]
    },
    {
     "name": "stdout",
     "output_type": "stream",
     "text": [
      "Downloading data from https://www.nitrc.org/frs/download.php/7799/adhd40_2014113.tgz ...\n"
     ]
    },
    {
     "name": "stderr",
     "output_type": "stream",
     "text": [
      "Downloaded 33119052 of 33119052 bytes (100.0%,    0.0s remaining) ...done. (3 seconds, 0 min)\n",
      "Extracting data from /home/jb/nilearn_data/adhd/51ca93ac61e627213eb5a3bb40abfcc0/adhd40_2014113.tgz..... done.\n"
     ]
    },
    {
     "name": "stdout",
     "output_type": "stream",
     "text": [
      "Downloading data from https://www.nitrc.org/frs/download.php/7800/adhd40_2497695.tgz ...\n"
     ]
    },
    {
     "name": "stderr",
     "output_type": "stream",
     "text": [
      "Downloaded 45455025 of 45455025 bytes (100.0%,    0.0s remaining) ...done. (4 seconds, 0 min)\n",
      "Extracting data from /home/jb/nilearn_data/adhd/51ca93ac61e627213eb5a3bb40abfcc0/adhd40_2497695.tgz..... done.\n"
     ]
    },
    {
     "name": "stdout",
     "output_type": "stream",
     "text": [
      "Downloading data from https://www.nitrc.org/frs/download.php/7801/adhd40_2950754.tgz ...\n"
     ]
    },
    {
     "name": "stderr",
     "output_type": "stream",
     "text": [
      "Downloaded 57992968 of 57992968 bytes (100.0%,    0.0s remaining) ...done. (5 seconds, 0 min)\n",
      "Extracting data from /home/jb/nilearn_data/adhd/51ca93ac61e627213eb5a3bb40abfcc0/adhd40_2950754.tgz..... done.\n"
     ]
    }
   ],
   "source": [
    "from nilearn import datasets\n",
    "\n",
    "adhd_dataset = datasets.fetch_adhd(n_subjects=20)\n",
    "func_filenames = adhd_dataset.func\n",
    "confounds = adhd_dataset.confounds\n"
   ]
  },
  {
   "cell_type": "code",
   "execution_count": 2,
   "metadata": {
    "collapsed": true
   },
   "outputs": [],
   "source": [
    "# Import dictionary learning algorithm from decomposition module and call the\n",
    "# object and fit the model to the functional datasets\n",
    "from nilearn.decomposition import DictLearning\n",
    "\n",
    "# Initialize DictLearning object\n",
    "dict_learn = DictLearning(n_components=5, smoothing_fwhm=6.,\n",
    "                          memory=\"nilearn_cache\", memory_level=2,\n",
    "                          random_state=0)\n",
    "# Fit to the data\n",
    "dict_learn.fit(func_filenames)\n",
    "# Resting state networks/maps\n",
    "components_img = dict_learn.masker_.inverse_transform(dict_learn.components_)\n",
    "\n",
    "# Visualization of resting state networks\n",
    "# Show networks using plotting utilities\n",
    "from nilearn import plotting\n",
    "\n"
   ]
  },
  {
   "cell_type": "code",
   "execution_count": 6,
   "metadata": {
    "collapsed": false
   },
   "outputs": [
    {
     "data": {
      "text/plain": [
       "['/home/jb/nilearn_data/adhd/data/0010042/0010042_rest_tshift_RPI_voreg_mni.nii.gz',\n",
       " '/home/jb/nilearn_data/adhd/data/0010064/0010064_rest_tshift_RPI_voreg_mni.nii.gz',\n",
       " '/home/jb/nilearn_data/adhd/data/0010128/0010128_rest_tshift_RPI_voreg_mni.nii.gz',\n",
       " '/home/jb/nilearn_data/adhd/data/0021019/0021019_rest_tshift_RPI_voreg_mni.nii.gz',\n",
       " '/home/jb/nilearn_data/adhd/data/0023008/0023008_rest_tshift_RPI_voreg_mni.nii.gz',\n",
       " '/home/jb/nilearn_data/adhd/data/0023012/0023012_rest_tshift_RPI_voreg_mni.nii.gz',\n",
       " '/home/jb/nilearn_data/adhd/data/0027011/0027011_rest_tshift_RPI_voreg_mni.nii.gz',\n",
       " '/home/jb/nilearn_data/adhd/data/0027018/0027018_rest_tshift_RPI_voreg_mni.nii.gz',\n",
       " '/home/jb/nilearn_data/adhd/data/0027034/0027034_rest_tshift_RPI_voreg_mni.nii.gz',\n",
       " '/home/jb/nilearn_data/adhd/data/0027037/0027037_rest_tshift_RPI_voreg_mni.nii.gz',\n",
       " '/home/jb/nilearn_data/adhd/data/1019436/1019436_rest_tshift_RPI_voreg_mni.nii.gz',\n",
       " '/home/jb/nilearn_data/adhd/data/1206380/1206380_rest_tshift_RPI_voreg_mni.nii.gz',\n",
       " '/home/jb/nilearn_data/adhd/data/1418396/1418396_rest_tshift_RPI_voreg_mni.nii.gz',\n",
       " '/home/jb/nilearn_data/adhd/data/1517058/1517058_rest_tshift_RPI_voreg_mni.nii.gz',\n",
       " '/home/jb/nilearn_data/adhd/data/1552181/1552181_rest_tshift_RPI_voreg_mni.nii.gz',\n",
       " '/home/jb/nilearn_data/adhd/data/1562298/1562298_rest_tshift_RPI_voreg_mni.nii.gz',\n",
       " '/home/jb/nilearn_data/adhd/data/1679142/1679142_rest_tshift_RPI_voreg_mni.nii.gz',\n",
       " '/home/jb/nilearn_data/adhd/data/2014113/2014113_rest_tshift_RPI_voreg_mni.nii.gz',\n",
       " '/home/jb/nilearn_data/adhd/data/2497695/2497695_rest_tshift_RPI_voreg_mni.nii.gz',\n",
       " '/home/jb/nilearn_data/adhd/data/2950754/2950754_rest_tshift_RPI_voreg_mni.nii.gz']"
      ]
     },
     "execution_count": 6,
     "metadata": {},
     "output_type": "execute_result"
    }
   ],
   "source": [
    "func_filenames"
   ]
  },
  {
   "cell_type": "code",
   "execution_count": 5,
   "metadata": {
    "collapsed": false
   },
   "outputs": [
    {
     "name": "stderr",
     "output_type": "stream",
     "text": [
      "/home/jb/virtualenvs/sanmi/lib/python3.5/site-packages/matplotlib/contour.py:919: UserWarning: linewidths is ignored by contourf\n",
      "  warnings.warn('linewidths is ignored by contourf')\n"
     ]
    },
    {
     "data": {
      "text/plain": [
       "<nilearn.plotting.displays.OrthoSlicer at 0x7fb731fdb0b8>"
      ]
     },
     "execution_count": 5,
     "metadata": {},
     "output_type": "execute_result"
    },
    {
     "data": {
      "image/png": "[encoded data removed]",
      "text/plain": [
       "<matplotlib.figure.Figure at 0x7fb731d02be0>"
      ]
     },
     "metadata": {},
     "output_type": "display_data"
    }
   ],
   "source": [
    "plotting.plot_prob_atlas(components_img, view_type='filled_contours',\n",
    "                         title='Dictionary Learning maps')"
   ]
  },
  {
   "cell_type": "code",
   "execution_count": null,
   "metadata": {
    "collapsed": true
   },
   "outputs": [],
   "source": []
  }
 ],
 "metadata": {
  "kernelspec": {
   "display_name": "Python 3",
   "language": "python",
   "name": "python3"
  },
  "language_info": {
   "codemirror_mode": {
    "name": "ipython",
    "version": 3
   },
   "file_extension": ".py",
   "mimetype": "text/x-python",
   "name": "python",
   "nbconvert_exporter": "python",
   "pygments_lexer": "ipython3",
   "version": "3.5.2"
  }
 },
 "nbformat": 4,
 "nbformat_minor": 0
}
