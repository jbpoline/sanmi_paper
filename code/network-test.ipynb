{
 "cells": [
  {
   "cell_type": "code",
   "execution_count": 7,
   "metadata": {
    "collapsed": true
   },
   "outputs": [],
   "source": [
    "%matplotlib inline"
   ]
  },
  {
   "cell_type": "code",
   "execution_count": 8,
   "metadata": {
    "collapsed": false
   },
   "outputs": [],
   "source": [
    "import numpy as np"
   ]
  },
  {
   "cell_type": "code",
   "execution_count": 35,
   "metadata": {
    "collapsed": false
   },
   "outputs": [],
   "source": [
    "def sparsematrix(n, p, slist, v=1.0, m=0.0):\n",
    "    ''' generate (n, k) matrix that has [slist] non-zeros on every column'''\n",
    "    M = np.zeros((n, p))\n",
    "    for ix in range(p): # for every column\n",
    "        sval = slist[ix]\n",
    "        index = np.random.permutation(n)[:sval]\n",
    "        values = v*np.random.randn(sval) + m\n",
    "        M[index, ix] = values\n",
    "    return M"
   ]
  },
  {
   "cell_type": "code",
   "execution_count": 121,
   "metadata": {
    "collapsed": false
   },
   "outputs": [],
   "source": [
    "# set hyperprameters\n",
    "P = 150 # number of regions\n",
    "N = 2 # number of subjects\n",
    "T = 5 # number of samples per subject\n",
    "Ka = 3 # number of known shared factors (networks) < p\n",
    "Kc = 1 # number of new factors (networks)\n",
    "Sa = [int(P/2)]*Ka #sparsity level for each factor < p\n",
    "Sc = [int(P/5)]*Kc #sparsity level for each factor < p\n",
    "snr = 100 # signal to noise ratio"
   ]
  },
  {
   "cell_type": "markdown",
   "metadata": {},
   "source": [
    "# generate data"
   ]
  },
  {
   "cell_type": "code",
   "execution_count": 122,
   "metadata": {
    "collapsed": false
   },
   "outputs": [
    {
     "name": "stdout",
     "output_type": "stream",
     "text": [
      "signal power is 147.751\n",
      "noise power is 1.478\n"
     ]
    }
   ],
   "source": [
    "# meta parameters\n",
    "cova = np.ones(Ka) # factor covariance of known samples\n",
    "covc = np.ones(Kc) # factor covariance of new samples\n",
    "\n",
    "# Generate group level\n",
    "A = sparsematrix(P, Ka, Sa, 10.0/np.sqrt(P)) # core factors\n",
    "B = np.random.multivariate_normal(np.zeros(Ka), np.diag(cova), (N, T)) # temporal weights for knwon factors (N, T, Ka)\n",
    "C=0; D=0\n",
    "if Kc>0:\n",
    "    C = sparsematrix(P, Kc, Sc, 10.0/np.sqrt(P)) # new factors\n",
    "    D = np.random.multivariate_normal(np.zeros(Kc), np.diag(covc), (N, T)) # temporal weights for new factors (N, T, Kb)\n",
    "# noise info\n",
    "signal = np.linalg.norm(A*np.sqrt(cova))**2 + np.linalg.norm(C*np.sqrt(covc))**2 \n",
    "noisevar = signal/snr\n",
    "\n",
    "print(\"signal power is %.3f\"%(signal,))\n",
    "print(\"noise power is %.3f\"%(noisevar,))\n"
   ]
  },
  {
   "cell_type": "code",
   "execution_count": 123,
   "metadata": {
    "collapsed": false
   },
   "outputs": [],
   "source": [
    "# generate noise\n",
    "noise = np.sqrt(noisevar)*np.random.randn(N, T, P)\n",
    "\n",
    "# generate sample level data ( # subject x # time points x # regions)\n",
    "X = np.dot(B, A.T) + noise\n",
    "if Kc>0:\n",
    "    X += np.dot(D, C.T)"
   ]
  },
  {
   "cell_type": "markdown",
   "metadata": {},
   "source": [
    "# fitting"
   ]
  },
  {
   "cell_type": "code",
   "execution_count": 124,
   "metadata": {
    "collapsed": false
   },
   "outputs": [
    {
     "name": "stdout",
     "output_type": "stream",
     "text": [
      "(10, 150) (150, 3)\n",
      "(3, 10)\n",
      "relative b error is 2.003 percent\n",
      "relative residual error is 55.000 percent\n"
     ]
    }
   ],
   "source": [
    "# Fit main components using regression\n",
    "X_flat = np.reshape(X, (N*T, P))\n",
    "print(X_flat.shape, A.shape)\n",
    "\n",
    "B_est_flat,sserror ,_ ,_ = np.linalg.lstsq(A, X_flat.T)\n",
    "print(B_est_flat.shape)\n",
    "B_est = np.reshape(B_est_flat.T, (N, T, Ka))\n",
    "\n",
    "R_est = X - np.dot(B_est, A.T)\n",
    "\n",
    "relative_b_error = ((B-B_est)**2).sum()/((B)**2).sum()\n",
    "relative_x_error = ((R_est)**2).sum()/((X)**2).sum()\n",
    "\n",
    "print(\"relative b error is %.3f percent\"%(relative_b_error*100.,))\n",
    "print(\"relative residual error is %.3f percent\"%(relative_x_error*100.,))\n"
   ]
  },
  {
   "cell_type": "code",
   "execution_count": null,
   "metadata": {
    "collapsed": false
   },
   "outputs": [],
   "source": []
  },
  {
   "cell_type": "code",
   "execution_count": null,
   "metadata": {
    "collapsed": false
   },
   "outputs": [],
   "source": []
  },
  {
   "cell_type": "code",
   "execution_count": null,
   "metadata": {
    "collapsed": true
   },
   "outputs": [],
   "source": []
  }
 ],
 "metadata": {
  "anaconda-cloud": {},
  "kernelspec": {
   "display_name": "Python [conda root]",
   "language": "python",
   "name": "conda-root-py"
  },
  "language_info": {
   "codemirror_mode": {
    "name": "ipython",
    "version": 3
   },
   "file_extension": ".py",
   "mimetype": "text/x-python",
   "name": "python",
   "nbconvert_exporter": "python",
   "pygments_lexer": "ipython3",
   "version": "3.5.2"
  }
 },
 "nbformat": 4,
 "nbformat_minor": 1
}
